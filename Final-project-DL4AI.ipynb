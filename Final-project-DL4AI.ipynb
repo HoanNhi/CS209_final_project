{
 "cells": [
  {
   "cell_type": "markdown",
   "metadata": {
    "id": "Y6DyphAUEBOi"
   },
   "source": [
    "# Final project: Time-series data and application to stock markets {-}\n",
    "\n",
    "This project aims at familiarizing you with time-series data analysis and its application to stock markets. Datasets you will be working on are Nasdaq and Vietnam stock datasets.\n",
    "\n",
    "### Submission {-}\n",
    "The structure of submission folder should be organized as follows:\n",
    "\n",
    "- ./\\<StudentID>-project-notebook.ipynb: Jupyter notebook containing source code.\n",
    "- ./\\<StudentID>-project-report.pdf: project report.\n",
    "\n",
    "The submission folder is named DL4AI-\\<StudentID>-project (e.g., DL4AI-2012345-project) and then compressed with the same name.\n",
    "    \n",
    "### Evaluation {-}\n",
    "Project evaluation will be conducted on how you accomplish the assignment requirements. You can refer to the project instruction slide deck for details.\n",
    "\n",
    "### Deadline {-}\n",
    "Please visit Canvas for details."
   ]
  },
  {
   "cell_type": "code",
   "execution_count": 2,
   "metadata": {
    "id": "FXOrhZHztGNR"
   },
   "outputs": [],
   "source": [
    "# Your code goes here"
   ]
  },
  {
   "cell_type": "code",
   "execution_count": null,
   "metadata": {},
   "outputs": [],
   "source": []
  }
 ],
 "metadata": {
  "accelerator": "GPU",
  "colab": {
   "collapsed_sections": [],
   "provenance": []
  },
  "kernelspec": {
   "display_name": "Python 3 (ipykernel)",
   "language": "python",
   "name": "python3"
  },
  "language_info": {
   "codemirror_mode": {
    "name": "ipython",
    "version": 3
   },
   "file_extension": ".py",
   "mimetype": "text/x-python",
   "name": "python",
   "nbconvert_exporter": "python",
   "pygments_lexer": "ipython3",
   "version": "3.8.3"
  }
 },
 "nbformat": 4,
 "nbformat_minor": 4
}
